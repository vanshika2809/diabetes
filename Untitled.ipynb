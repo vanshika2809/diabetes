{
 "cells": [
  {
   "cell_type": "code",
   "execution_count": 7,
   "id": "3e9bc9af",
   "metadata": {},
   "outputs": [],
   "source": [
    "import pandas as pd\n",
    "from sklearn.metrics import classification_report\n",
    "from sklearn.metrics import accuracy_score\n",
    "from sklearn.model_selection import train_test_split\n",
    "from sklearn.ensemble import RandomForestClassifier"
   ]
  },
  {
   "cell_type": "code",
   "execution_count": null,
   "id": "109da341",
   "metadata": {},
   "outputs": [],
   "source": [
    "pip install sklearn"
   ]
  },
  {
   "cell_type": "code",
   "execution_count": 5,
   "id": "8dab70dc",
   "metadata": {},
   "outputs": [
    {
     "name": "stdout",
     "output_type": "stream",
     "text": [
      "Requirement already satisfied: sklearn in c:\\users\\owner\\appdata\\local\\programs\\python\\python37\\lib\\site-packages (0.0)\n",
      "Requirement already satisfied: scikit-learn in c:\\users\\owner\\appdata\\local\\programs\\python\\python37\\lib\\site-packages (from sklearn) (0.24.2)\n",
      "Requirement already satisfied: joblib>=0.11 in c:\\users\\owner\\appdata\\local\\programs\\python\\python37\\lib\\site-packages (from scikit-learn->sklearn) (1.0.1)\n",
      "Requirement already satisfied: scipy>=0.19.1 in c:\\users\\owner\\appdata\\local\\programs\\python\\python37\\lib\\site-packages (from scikit-learn->sklearn) (1.6.3)\n",
      "Requirement already satisfied: numpy>=1.13.3 in c:\\users\\owner\\appdata\\local\\programs\\python\\python37\\lib\\site-packages (from scikit-learn->sklearn) (1.20.3)\n",
      "Requirement already satisfied: threadpoolctl>=2.0.0 in c:\\users\\owner\\appdata\\local\\programs\\python\\python37\\lib\\site-packages (from scikit-learn->sklearn) (2.1.0)\n"
     ]
    }
   ],
   "source": [
    "import sys\n",
    "!{sys.executable} -m pip install sklearn"
   ]
  },
  {
   "cell_type": "code",
   "execution_count": 6,
   "id": "dfe31733",
   "metadata": {},
   "outputs": [],
   "source": [
    "import streamlit as st"
   ]
  },
  {
   "cell_type": "code",
   "execution_count": 8,
   "id": "82ed5824",
   "metadata": {},
   "outputs": [],
   "source": [
    "import pandas as pd\n",
    "from sklearn.metrics import classification_report\n",
    "from sklearn.metrics import accuracy_score\n",
    "from sklearn.model_selection import train_test_split\n",
    "from sklearn.ensemble import RandomForestClassifier\n",
    "from PIL import Image\n",
    "import streamlit as st"
   ]
  },
  {
   "cell_type": "code",
   "execution_count": 9,
   "id": "d5db0518",
   "metadata": {},
   "outputs": [
    {
     "name": "stderr",
     "output_type": "stream",
     "text": [
      "2021-05-11 16:33:46.669 WARNING root: \n",
      "  \u001b[33m\u001b[1mWarning:\u001b[0m to view this Streamlit app on a browser, run it with the following\n",
      "  command:\n",
      "\n",
      "    streamlit run c:\\users\\owner\\appdata\\local\\programs\\python\\python37\\lib\\site-packages\\ipykernel_launcher.py [ARGUMENTS]\n"
     ]
    }
   ],
   "source": [
    "st.write(\"\"\"\n",
    "# Diabetes Detection\n",
    " Detect if someone has diabetes using machine learning and python !\n",
    "\"\"\")"
   ]
  },
  {
   "cell_type": "code",
   "execution_count": 10,
   "id": "8fe2ac0d",
   "metadata": {},
   "outputs": [],
   "source": [
    "image = Image.open('image.png')"
   ]
  },
  {
   "cell_type": "code",
   "execution_count": 11,
   "id": "0b04fccd",
   "metadata": {},
   "outputs": [
    {
     "data": {
      "text/plain": [
       "DeltaGenerator(_root_container=0, _provided_cursor=None, _parent=None, _block_type=None, _form_data=None)"
      ]
     },
     "execution_count": 11,
     "metadata": {},
     "output_type": "execute_result"
    }
   ],
   "source": [
    "st.image(image, caption='ML',use_column_width=True)"
   ]
  },
  {
   "cell_type": "code",
   "execution_count": 12,
   "id": "151b0d40",
   "metadata": {},
   "outputs": [
    {
     "data": {
      "text/plain": [
       "DeltaGenerator(_root_container=0, _provided_cursor=None, _parent=None, _block_type=None, _form_data=None)"
      ]
     },
     "execution_count": 12,
     "metadata": {},
     "output_type": "execute_result"
    }
   ],
   "source": [
    "#Get the data\n",
    "df = pd.read_csv(\"Diabetes.csv\")\n",
    "st.subheader('Data Information:')"
   ]
  },
  {
   "cell_type": "code",
   "execution_count": 13,
   "id": "5c11b589",
   "metadata": {},
   "outputs": [
    {
     "data": {
      "text/plain": [
       "DeltaGenerator(_root_container=0, _provided_cursor=None, _parent=None, _block_type=None, _form_data=None)"
      ]
     },
     "execution_count": 13,
     "metadata": {},
     "output_type": "execute_result"
    }
   ],
   "source": [
    "st.dataframe(df)"
   ]
  },
  {
   "cell_type": "code",
   "execution_count": 14,
   "id": "9feb8e48",
   "metadata": {},
   "outputs": [],
   "source": [
    "#Get statistics on the data\n",
    "st.write(df.describe())\n",
    "# Show the data as a chart.\n",
    "chart = st.line_chart(df)"
   ]
  },
  {
   "cell_type": "code",
   "execution_count": 17,
   "id": "c4e898cf",
   "metadata": {},
   "outputs": [],
   "source": [
    "df.describe()\n",
    "chart = st.line_chart(df)"
   ]
  },
  {
   "cell_type": "code",
   "execution_count": 23,
   "id": "55a38080",
   "metadata": {},
   "outputs": [],
   "source": [
    "#Split the data into independent 'X' and dependent 'Y' variables\n",
    "X = df.iloc[:, 0:8].values\n",
    "Y= df.iloc[:,-1].values"
   ]
  },
  {
   "cell_type": "code",
   "execution_count": 18,
   "id": "f2e8b3e8",
   "metadata": {},
   "outputs": [],
   "source": [
    "chart = st.line_chart(df)"
   ]
  },
  {
   "cell_type": "code",
   "execution_count": 19,
   "id": "51d72a33",
   "metadata": {},
   "outputs": [
    {
     "data": {
      "text/plain": [
       "DeltaGenerator(_root_container=0, _provided_cursor=None, _parent=None, _block_type=None, _form_data=None)"
      ]
     },
     "execution_count": 19,
     "metadata": {},
     "output_type": "execute_result"
    }
   ],
   "source": [
    "chart"
   ]
  },
  {
   "cell_type": "code",
   "execution_count": 22,
   "id": "d4a07aa2",
   "metadata": {},
   "outputs": [
    {
     "data": {
      "text/plain": [
       "DeltaGenerator(_root_container=0, _provided_cursor=None, _parent=None, _block_type=None, _form_data=None)"
      ]
     },
     "execution_count": 22,
     "metadata": {},
     "output_type": "execute_result"
    }
   ],
   "source": [
    "st.line_chart(df)"
   ]
  },
  {
   "cell_type": "code",
   "execution_count": 24,
   "id": "9312ce38",
   "metadata": {},
   "outputs": [],
   "source": [
    "# Split the dataset into 75% Training set and 25% Testing set\n",
    "X_train, X_test, Y_train, Y_test = train_test_split(X, Y, test_size = 0.25, random_state = 0)"
   ]
  },
  {
   "cell_type": "code",
   "execution_count": 25,
   "id": "0dd8c5bf",
   "metadata": {},
   "outputs": [],
   "source": [
    "#Get the feature input from the user\n",
    "def get_user_input():\n",
    "    pregnancies = st.sidebar.slider('pregnancies', 0, 17,3)\n",
    "    glucose = st.sidebar.slider('glucose', 0, 199, 117)\n",
    "    blood_pressure = st.sidebar.slider('blood_pressure',0, 122,72)\n",
    "    skin_thickness = st.sidebar.slider('skin_thickness', 0, 99, 23)\n",
    "    insulin = st.sidebar.slider('insulin', 0.0, 846.0, 30.5)\n",
    "    BMI = st.sidebar.slider('BMI', 0.0, 67.1, 32.0)\n",
    "    DPF = st.sidebar.slider('DPF', 0.078, 2.42, 0.3725)\n",
    "    age = st.sidebar.slider('age', 21, 81, 29)\n",
    "    \n",
    "    \n",
    "    user_data = {'pregnancies': pregnancies,\n",
    "              'glucose': glucose,\n",
    "                 'blood_pressure': blood_pressure,\n",
    "                 'skin_thickness': skin_thickness,\n",
    "                 'insulin': insulin,\n",
    "              'BMI': BMI,\n",
    "              'DPF': DPF,\n",
    "                 'age': age\n",
    "                 }\n",
    "    features = pd.DataFrame(user_data, index=[0])\n",
    "    return features\n",
    "user_input = get_user_input()\n",
    "st.subheader('User Input :')\n",
    "st.write(user_input)"
   ]
  },
  {
   "cell_type": "code",
   "execution_count": 26,
   "id": "232ae7ac",
   "metadata": {},
   "outputs": [
    {
     "data": {
      "text/plain": [
       "RandomForestClassifier()"
      ]
     },
     "execution_count": 26,
     "metadata": {},
     "output_type": "execute_result"
    }
   ],
   "source": [
    "RandomForestClassifier = RandomForestClassifier()\n",
    "RandomForestClassifier.fit(X_train, Y_train)"
   ]
  },
  {
   "cell_type": "code",
   "execution_count": 27,
   "id": "13fd57f3",
   "metadata": {},
   "outputs": [],
   "source": [
    "st.subheader('Model Test Accuracy Score')\n",
    "st.write( str(accuracy_score(Y_test, RandomForestClassifier.predict(X_test)) * 100) + '%' )\n",
    "prediction = RandomForestClassifier.predict(user_input)\n",
    "st.subheader('Classification: ')\n",
    "st.write(prediction)"
   ]
  },
  {
   "cell_type": "code",
   "execution_count": null,
   "id": "bca15c4b",
   "metadata": {},
   "outputs": [],
   "source": []
  }
 ],
 "metadata": {
  "kernelspec": {
   "display_name": "Python 3",
   "language": "python",
   "name": "python3"
  },
  "language_info": {
   "codemirror_mode": {
    "name": "ipython",
    "version": 3
   },
   "file_extension": ".py",
   "mimetype": "text/x-python",
   "name": "python",
   "nbconvert_exporter": "python",
   "pygments_lexer": "ipython3",
   "version": "3.7.0"
  }
 },
 "nbformat": 4,
 "nbformat_minor": 5
}
